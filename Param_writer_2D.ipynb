{
 "cells": [
  {
   "cell_type": "code",
   "execution_count": 2,
   "metadata": {},
   "outputs": [],
   "source": [
    "def write_to_file(d):\n",
    "    with open('rand_params.dat','w') as ofile:\n",
    "        ofile.write(f\"param N_value := {d['N_value']};\\n\")\n",
    "        ofile.write(f\"param H_max := {d['H_max']};\\n\")\n",
    "        ofile.write(f\"param W_max := {d['W_max']};\\n\")\n",
    "        ofile.write(f\"param: H W := \\n\")\n",
    "        for i in range(N_value):\n",
    "            semicolon = ';' if i == N_value-1 else ''\n",
    "            ofile.write(f\"{i+1} {d['dimensions'][i][0]} {d['dimensions'][i][1]}{semicolon}\\n\")"
   ]
  },
  {
   "cell_type": "code",
   "execution_count": 4,
   "metadata": {},
   "outputs": [
    {
     "data": {
      "text/plain": [
       "10"
      ]
     },
     "execution_count": 4,
     "metadata": {},
     "output_type": "execute_result"
    }
   ],
   "source": [
    "import random\n",
    "N_value = 10 #random.randint(3,15)\n",
    "H_max = 1\n",
    "dimensions = [(random.random()*H_max,random.random()*H_max)\n",
    "              for i in range(N_value)]\n",
    "W_max = sum([box[1] for box in dimensions])\n",
    "write_to_file({'N_value':N_value, 'H_max':H_max,'W_max':W_max, 'dimensions':dimensions})\n",
    "N_value"
   ]
  },
  {
   "cell_type": "code",
   "execution_count": null,
   "metadata": {},
   "outputs": [],
   "source": []
  }
 ],
 "metadata": {
  "kernelspec": {
   "display_name": "Python 3",
   "language": "python",
   "name": "python3"
  },
  "language_info": {
   "codemirror_mode": {
    "name": "ipython",
    "version": 3
   },
   "file_extension": ".py",
   "mimetype": "text/x-python",
   "name": "python",
   "nbconvert_exporter": "python",
   "pygments_lexer": "ipython3",
   "version": "3.7.1"
  }
 },
 "nbformat": 4,
 "nbformat_minor": 2
}
