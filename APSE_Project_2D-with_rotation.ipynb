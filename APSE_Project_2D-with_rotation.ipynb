{
 "cells": [
  {
   "cell_type": "code",
   "execution_count": 2,
   "metadata": {},
   "outputs": [],
   "source": [
    "from pyomo.environ import *"
   ]
  },
  {
   "cell_type": "code",
   "execution_count": 3,
   "metadata": {},
   "outputs": [],
   "source": [
    "m = AbstractModel()\n",
    "m.N_value = Param(domain=PositiveIntegers)\n",
    "m.W_max = Param(domain=PositiveReals)\n",
    "m.H_max = Param(domain=PositiveReals)\n",
    "m.N = RangeSet(m.N_value)\n",
    "m.N_N = Set(initialize=m.N*m.N, filter=lambda _,i,j: i<j)\n",
    "\n",
    "m.H = Param(m.N, domain=PositiveReals)\n",
    "m.W = Param(m.N, domain=PositiveReals)\n",
    "#m.max_HW = Param(initialize=max([m.H_max, m.W_max]))\n",
    "\n",
    "m.H_rot = Var(m.N, domain=PositiveReals, bounds=(0, m.H_max*m.W_max))\n",
    "m.W_rot = Var(m.N, domain=PositiveReals, bounds=(0, m.H_max*m.W_max))\n",
    "\n",
    "m.x = Var(m.N, domain=NonNegativeReals, bounds=(0,m.W_max), initialize=0)\n",
    "m.y = Var(m.N, domain=NonNegativeReals, bounds=(0,m.H_max), initialize=0)\n",
    "m.lt = Var(domain=PositiveReals)\n",
    "m.obj = Objective(expr=m.lt)\n",
    "\n",
    "@m.Constraint(m.N)\n",
    "def height_constr(m,i):\n",
    "    return m.y[i]+m.H_rot[i] <= m.H_max\n",
    "\n",
    "@m.Constraint(m.N)\n",
    "def objective_constr(m,i):\n",
    "    return m.x[i]+m.W_rot[i] <= m.lt\n",
    "\n",
    "@m.Disjunction(m.N_N)\n",
    "def direction_disjunct(m,i,j):\n",
    "    return [\n",
    "        m.x[i]+m.W_rot[i] <= m.x[j],\n",
    "        m.x[j]+m.W_rot[j] <= m.x[i],\n",
    "        m.y[i]+m.H_rot[i] <= m.y[j],\n",
    "        m.y[j]+m.H_rot[j] <= m.y[i]\n",
    "    ]\n",
    "\n",
    "@m.Disjunction(m.N)\n",
    "def rotation(m,i):\n",
    "    return [[m.W_rot[i] == m.W[i], m.H_rot[i] == m.H[i]],\n",
    "            [m.W_rot[i] == m.H[i], m.H_rot[i] == m.W[i]]]"
   ]
  },
  {
   "cell_type": "code",
   "execution_count": 4,
   "metadata": {},
   "outputs": [],
   "source": [
    "instance = m.create_instance('rand_params_2D.dat')\n",
    "opt = SolverFactory('gdpopt')\n",
    "opt.solve(instance);"
   ]
  },
  {
   "cell_type": "code",
   "execution_count": 6,
   "metadata": {},
   "outputs": [
    {
     "data": {
      "image/png": "[encoded data removed]",
      "text/plain": [
       "<Figure size 432x288 with 1 Axes>"
      ]
     },
     "metadata": {
      "needs_background": "light"
     },
     "output_type": "display_data"
    }
   ],
   "source": [
    "import matplotlib.pyplot as plt\n",
    "from matplotlib.patches import Rectangle\n",
    "import random\n",
    "\n",
    "fig, ax = plt.subplots(1)\n",
    "plt.xlim((0,max([instance.x[i].value+instance.W_rot[i].value for i in instance.N])))\n",
    "plt.ylim((0,instance.H_max.value))\n",
    "ax.set_aspect('equal')\n",
    "plt.title('Packing solution', fontsize=16)\n",
    "plt.xlabel('x-axis (minimization direction)', fontsize=14)\n",
    "plt.ylabel('y-axis (fixed)', fontsize=14)\n",
    "\n",
    "for i in instance.N:\n",
    "    r_border = Rectangle(\n",
    "        (instance.x[i].value,instance.y[i].value),\n",
    "        instance.W_rot[i].value,instance.H_rot[i].value,\n",
    "        color='black',fill=False)\n",
    "    random.seed(i)\n",
    "    random_color = [random.random() for i in range(3)]\n",
    "    r_fill = Rectangle(\n",
    "        (instance.x[i].value,instance.y[i].value),\n",
    "        instance.W_rot[i].value,instance.H_rot[i].value,\n",
    "        color=random_color, alpha=0.8)\n",
    "    ax.add_patch(r_fill)\n",
    "    ax.add_patch(r_border)\n",
    "plt.savefig('figs/2D-single-rotation.png')"
   ]
  },
  {
   "cell_type": "code",
   "execution_count": 27,
   "metadata": {},
   "outputs": [
    {
     "data": {
      "text/plain": [
       "[0.041894749960024374,\n",
       " None,\n",
       " 0.011123559346005101,\n",
       " 0.1582823199298794,\n",
       " 0.424394848546794]"
      ]
     },
     "execution_count": 27,
     "metadata": {},
     "output_type": "execute_result"
    }
   ],
   "source": [
    "[instance.y[i].value for i in instance.N]"
   ]
  },
  {
   "cell_type": "code",
   "execution_count": null,
   "metadata": {},
   "outputs": [],
   "source": []
  }
 ],
 "metadata": {
  "kernelspec": {
   "display_name": "Python [conda env:pyomo]",
   "language": "python",
   "name": "conda-env-pyomo-py"
  },
  "language_info": {
   "codemirror_mode": {
    "name": "ipython",
    "version": 3
   },
   "file_extension": ".py",
   "mimetype": "text/x-python",
   "name": "python",
   "nbconvert_exporter": "python",
   "pygments_lexer": "ipython3",
   "version": "3.7.1"
  }
 },
 "nbformat": 4,
 "nbformat_minor": 2
}
