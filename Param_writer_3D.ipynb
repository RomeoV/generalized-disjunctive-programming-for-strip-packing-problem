{
 "cells": [
  {
   "cell_type": "code",
   "execution_count": 22,
   "metadata": {},
   "outputs": [],
   "source": [
    "def write_to_file(d):\n",
    "    with open('rand_params_3D.dat','w') as ofile:\n",
    "        ofile.write(f\"param N_value := {d['N_value']};\\n\")\n",
    "        ofile.write(f\"param D_max := {d['D_max']};\\n\")\n",
    "        ofile.write(f\"param W_max := {d['W_max']};\\n\")\n",
    "        ofile.write(f\"param H_max := {d['H_max']};\\n\")\n",
    "        ofile.write(f\"param: D W H := \\n\")\n",
    "        for i in range(N_value):\n",
    "            semicolon = ';' if i == N_value-1 else ''\n",
    "            ofile.write(f\"{i+1} {d['dimensions'][i].D} {d['dimensions'][i].W} {d['dimensions'][i].H}{semicolon}\\n\")"
   ]
  },
  {
   "cell_type": "code",
   "execution_count": 25,
   "metadata": {},
   "outputs": [],
   "source": [
    "import random\n",
    "from collections import namedtuple\n",
    "Box = namedtuple('Box', ['D', 'W', 'H'])\n",
    "\n",
    "N_value = 13 # random.randint(3,15)\n",
    "D_max = 1\n",
    "W_max = 1\n",
    "dimensions = [Box(D = random.random()*D_max,\n",
    "                  W = random.random()*W_max,\n",
    "                  H = random.random()*max(D_max,W_max))\n",
    "              for i in range(N_value)]\n",
    "H_max = sum([box.H for box in dimensions])\n",
    "write_to_file({'N_value':N_value, 'D_max':D_max, 'W_max':W_max,'H_max':H_max, 'dimensions':dimensions})"
   ]
  }
 ],
 "metadata": {
  "kernelspec": {
   "display_name": "Python 3",
   "language": "python",
   "name": "python3"
  },
  "language_info": {
   "codemirror_mode": {
    "name": "ipython",
    "version": 3
   },
   "file_extension": ".py",
   "mimetype": "text/x-python",
   "name": "python",
   "nbconvert_exporter": "python",
   "pygments_lexer": "ipython3",
   "version": "3.7.1"
  }
 },
 "nbformat": 4,
 "nbformat_minor": 2
}
