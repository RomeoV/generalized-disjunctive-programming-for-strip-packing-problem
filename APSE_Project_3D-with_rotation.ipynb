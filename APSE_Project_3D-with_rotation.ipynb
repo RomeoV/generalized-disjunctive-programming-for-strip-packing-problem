{
 "cells": [
  {
   "cell_type": "code",
   "execution_count": 1,
   "metadata": {},
   "outputs": [],
   "source": [
    "from pyomo.environ import *\n",
    "from itertools import permutations"
   ]
  },
  {
   "cell_type": "code",
   "execution_count": 2,
   "metadata": {},
   "outputs": [],
   "source": [
    "m = AbstractModel()\n",
    "\"\"\"\n",
    "Parameters:\n",
    "  z\n",
    "  |_y\n",
    " /\n",
    "x\n",
    "x -> Depth  D\n",
    "y -> Width  W\n",
    "z -> Height H\n",
    "\"\"\"\n",
    "\n",
    "m.N_value = Param(domain=PositiveIntegers)\n",
    "m.W_max = Param(domain=PositiveReals)\n",
    "m.H_max = Param(domain=PositiveReals)\n",
    "m.D_max = Param(domain=PositiveReals)\n",
    "m.N = RangeSet(m.N_value)\n",
    "m.N_N = Set(initialize=m.N*m.N, filter=lambda _,i,j: i<j)\n",
    "\n",
    "m.D = Param(m.N, domain=PositiveReals)\n",
    "m.W = Param(m.N, domain=PositiveReals)\n",
    "m.H = Param(m.N, domain=PositiveReals)\n",
    "\n",
    "m.D_rot = Var(m.N, domain=NonNegativeReals, bounds=(0,m.W_max*m.H_max*m.D_max), initialize=0)\n",
    "m.W_rot = Var(m.N, domain=NonNegativeReals, bounds=(0,m.W_max*m.H_max*m.D_max), initialize=0)\n",
    "m.H_rot = Var(m.N, domain=NonNegativeReals, bounds=(0,m.W_max*m.H_max*m.D_max), initialize=0)\n",
    "\n",
    "m.x = Var(m.N, domain=NonNegativeReals, bounds=(0,m.D_max), initialize=0)\n",
    "m.y = Var(m.N, domain=NonNegativeReals, bounds=(0,m.W_max), initialize=0)\n",
    "m.z = Var(m.N, domain=NonNegativeReals, bounds=(0,m.H_max), initialize=0)\n",
    "\n",
    "m.lt = Var(domain=PositiveReals)\n",
    "m.obj = Objective(expr=m.lt)\n",
    "\n",
    "@m.Constraint(m.N)\n",
    "def depth_constr(m,i):\n",
    "    return m.x[i]+m.D_rot[i] <= m.D_max\n",
    "\n",
    "@m.Constraint(m.N)\n",
    "def width_constr(m,i):\n",
    "    return m.y[i]+m.W_rot[i] <= m.W_max\n",
    "\n",
    "@m.Constraint(m.N)\n",
    "def objective_constr(m,i):\n",
    "    return m.z[i]+m.H_rot[i] <= m.lt\n",
    "\n",
    "@m.Disjunction(m.N_N)\n",
    "def direction_disjunct(m,i,j):\n",
    "    return [\n",
    "        m.x[i]+m.D_rot[i] <= m.x[j],\n",
    "        m.x[j]+m.D_rot[j] <= m.x[i],\n",
    "        m.y[i]+m.W_rot[i] <= m.y[j],\n",
    "        m.y[j]+m.W_rot[j] <= m.y[i],\n",
    "        m.z[i]+m.H_rot[i] <= m.z[j],\n",
    "        m.z[j]+m.H_rot[j] <= m.z[i]\n",
    "    ]\n",
    "\n",
    "\n",
    "@m.Disjunction(m.N)\n",
    "def rotation(m,i):\n",
    "    \"\"\"Disjunction with a disjunct for each way to combine (D,W,H)_i and (D_rot,W_rot,H_rot)_i\"\"\"\n",
    "    #dimension_var = [m.D_rot, m.W_rot, m.H_rot]\n",
    "    #dimension_params = [m.D, m.W, m.H]\n",
    "    #Z = [zip(var_perm, dimension_params) for var_perm in permutations(dimension_vars)]\n",
    "    #return [[var[i] == param[i] for (var,param) in z] for z in Z]\n",
    "    return [[var[i] == param[i] for (var,param) in z] for z in [zip(var_perm, [m.D, m.W, m.H]) for var_perm in permutations([m.D_rot, m.W_rot, m.H_rot])]]"
   ]
  },
  {
   "cell_type": "code",
   "execution_count": 3,
   "metadata": {},
   "outputs": [
    {
     "data": {
      "text/plain": [
       "{'Problem': [{'Name': 'unknown', 'Lower bound': 2.85238778197, 'Upper bound': 2.852387741177995, 'Number of objectives': 1, 'Number of constraints': 741, 'Number of variables': 625, 'Number of binary variables': 546, 'Number of integer variables': 0, 'Number of continuous variables': 79, 'Number of nonzeros': None, 'Sense': 1, 'Number of disjunctions': 91}], 'Solver': [{'Name': 'GDPopt (19, 3, 11) - LOA', 'Status': 'ok', 'Message': None, 'User time': 155.55449965600002, 'System time': None, 'Wallclock time': 155.55449965600002, 'Termination condition': 'optimal', 'Termination message': None, 'Timing': Container(OA cut generation = 0.0010004920000028505, initialization = 0.3292706920000228, integer cut generation = 0.006407468000020344, main loop = 154.99565013999998, main_timer_start_time = 204.808238695, mip = 154.451686809, nlp = 0.5363212309999881, total = 155.55449965600002), 'Iterations': 1}]}"
      ]
     },
     "execution_count": 3,
     "metadata": {},
     "output_type": "execute_result"
    }
   ],
   "source": [
    "instance = m.create_instance('rand_params_3D.dat')\n",
    "opt = SolverFactory('gdpopt')  # or TransformationFactory & gurobi\n",
    "opt.solve(instance)"
   ]
  },
  {
   "cell_type": "code",
   "execution_count": 6,
   "metadata": {},
   "outputs": [],
   "source": [
    "def set_axes_radius(ax, origin, radius):\n",
    "    ax.set_xlim3d([origin[0] - radius, origin[0] + radius])\n",
    "    ax.set_ylim3d([origin[1] - radius, origin[1] + radius])\n",
    "    ax.set_zlim3d([origin[2] - radius, origin[2] + radius])\n",
    "\n",
    "def set_axes_equal(ax):\n",
    "    '''Make axes of 3D plot have equal scale so that spheres appear as spheres,\n",
    "    cubes as cubes, etc..  This is one possible solution to Matplotlib's\n",
    "    ax.set_aspect('equal') and ax.axis('equal') not working for 3D.\n",
    "\n",
    "    Input\n",
    "      ax: a matplotlib axis, e.g., as output from plt.gca().\n",
    "      \n",
    "    Source: https://stackoverflow.com/a/50664367/5616591\n",
    "    '''\n",
    "\n",
    "    limits = np.array([\n",
    "        ax.get_xlim3d(),\n",
    "        ax.get_ylim3d(),\n",
    "        ax.get_zlim3d(),\n",
    "    ])\n",
    "\n",
    "    origin = np.mean(limits, axis=1)\n",
    "    radius = 0.5 * np.max(np.abs(limits[:, 1] - limits[:, 0]))\n",
    "    set_axes_radius(ax, origin, radius)"
   ]
  },
  {
   "cell_type": "code",
   "execution_count": 8,
   "metadata": {},
   "outputs": [],
   "source": [
    "import numpy as np\n",
    "import matplotlib.pyplot as plt\n",
    "from mpl_toolkits.mplot3d import Axes3D\n",
    "import random  # for colors\n",
    "from itertools import product, combinations  # for 3D box\n",
    "%matplotlib qt\n",
    "\n",
    "def plotBox(ax, v1, v2, **kwargs):\n",
    "    \"\"\"Plot 3D box from two cornerpoins v1 and v2\"\"\"\n",
    "    for a, b in combinations(list(product(*zip(v1,v2))),2):\n",
    "        if len(np.nonzero(np.array(a)-np.array(b))[0]) == 1:\n",
    "            ax.plot3D(*zip(a,b), **kwargs)\n",
    "\n",
    "fig = plt.figure(figsize=(15, 12))\n",
    "ax = fig.add_subplot(111, projection='3d')\n",
    "ax.set_aspect(\"equal\")\n",
    "plt.title('Packing solution (with rotation)', fontsize=16)\n",
    "\n",
    "ax.set_xlabel('x-axis (fixed)', fontsize=14)\n",
    "ax.set_ylabel('y-axis (fixed)', fontsize=14)\n",
    "ax.set_zlabel('z-axis (minimization direction)', fontsize=14)\n",
    "\n",
    "(x,y,z) = (instance.x, instance.y, instance.z)\n",
    "(D,W,H) = (instance.D_rot, instance.W_rot, instance.H_rot)\n",
    "\n",
    "# Plot the 'containing' box, i.e. the width and depth limits\n",
    "plotBox(ax, (0,0,0), (instance.D_max.value, instance.W_max.value, 0), color='red',linewidth=5)\n",
    "\n",
    "# Plot all the model boxes\n",
    "for i in instance.N:\n",
    "    random.seed(i)\n",
    "    random_color = [random.random() for i in range(3)]\n",
    "    plotBox(ax, (x[i].value, y[i].value, z[i].value), \n",
    "                (x[i].value+D[i].value, y[i].value+W[i].value, z[i].value+H[i].value),\n",
    "            color=random_color, linewidth=5, alpha=0.6)\n",
    "    \n",
    "set_axes_equal(ax)\n",
    "plt.tight_layout()"
   ]
  },
  {
   "cell_type": "code",
   "execution_count": null,
   "metadata": {},
   "outputs": [],
   "source": []
  }
 ],
 "metadata": {
  "kernelspec": {
   "display_name": "Python [conda env:pyomo]",
   "language": "python",
   "name": "conda-env-pyomo-py"
  },
  "language_info": {
   "codemirror_mode": {
    "name": "ipython",
    "version": 3
   },
   "file_extension": ".py",
   "mimetype": "text/x-python",
   "name": "python",
   "nbconvert_exporter": "python",
   "pygments_lexer": "ipython3",
   "version": "3.7.1"
  }
 },
 "nbformat": 4,
 "nbformat_minor": 2
}
