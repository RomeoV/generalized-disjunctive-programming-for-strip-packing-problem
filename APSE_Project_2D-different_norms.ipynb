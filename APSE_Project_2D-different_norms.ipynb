{
 "cells": [
  {
   "cell_type": "code",
   "execution_count": 1,
   "metadata": {},
   "outputs": [],
   "source": [
    "from pyomo.environ import *"
   ]
  },
  {
   "cell_type": "code",
   "execution_count": 2,
   "metadata": {},
   "outputs": [],
   "source": [
    "m = AbstractModel()\n",
    "m.N_value = Param(domain=PositiveIntegers)\n",
    "m.W_max = Param(domain=PositiveReals)\n",
    "m.H_max = Param(domain=PositiveReals)\n",
    "m.N = RangeSet(m.N_value)\n",
    "m.N_N = Set(initialize=m.N*m.N, filter=lambda _,i,j: i<j)\n",
    "\n",
    "m.H = Param(m.N, domain=PositiveReals)\n",
    "m.W = Param(m.N, domain=PositiveReals)\n",
    "\n",
    "m.x = Var(m.N, domain=NonNegativeReals, bounds=(0,m.W_max))\n",
    "m.y = Var(m.N, domain=NonNegativeReals, bounds=(0,m.H_max))\n",
    "m.width = Var(domain=PositiveReals)\n",
    "m.height = Var(domain=PositiveReals)\n",
    "m.obj = Var(domain=PositiveReals)\n",
    "m.obj_func = Objective(expr=m.obj)\n",
    "\n",
    "# define L-inf norm\n",
    "m.obj_constr_width = Constraint(expr=m.obj >= m.width)\n",
    "m.obj_constr_height = Constraint(expr=m.obj >= m.height)\n",
    "# defines L1 norm\n",
    "#m.obj_constr_both = Constraint(expr=m.obj >= m.width+m.height)\n",
    "\n",
    "@m.Constraint(m.N)\n",
    "def height_constr(m,i):\n",
    "    return m.y[i]+m.H[i] <= m.height\n",
    "\n",
    "@m.Constraint(m.N)\n",
    "def width_constr(m,i):\n",
    "    return m.x[i]+m.W[i] <= m.width\n",
    "\n",
    "@m.Disjunction(m.N_N)\n",
    "def direction_disjunct(m,i,j):\n",
    "    return [\n",
    "        m.x[i]+m.W[i] <= m.x[j],\n",
    "        m.x[j]+m.W[j] <= m.x[i],\n",
    "        m.y[i]+m.H[i] <= m.y[j],\n",
    "        m.y[j]+m.H[j] <= m.y[i]\n",
    "    ]"
   ]
  },
  {
   "cell_type": "code",
   "execution_count": 3,
   "metadata": {},
   "outputs": [],
   "source": [
    "instance = m.create_instance('rand_params_2D.dat')\n",
    "opt = SolverFactory('gdpopt')\n",
    "res = opt.solve(instance)"
   ]
  },
  {
   "cell_type": "code",
   "execution_count": 14,
   "metadata": {},
   "outputs": [
    {
     "data": {
      "text/plain": [
       "{'Problem': [{'Name': 'unknown', 'Lower bound': 3.09180420145, 'Upper bound': 3.091804134407387, 'Number of objectives': 1, 'Number of constraints': 203, 'Number of variables': 203, 'Number of binary variables': 180, 'Number of integer variables': 0, 'Number of continuous variables': 23, 'Number of nonzeros': None, 'Sense': 1, 'Number of disjunctions': 45}], 'Solver': [{'Name': 'GDPopt (19, 3, 11) - LOA', 'Status': 'ok', 'Message': None, 'User time': 2.171035360021051, 'System time': None, 'Wallclock time': 2.171035360021051, 'Termination condition': 'optimal', 'Termination message': None, 'Timing': Container(OA cut generation = 0.0006852640071883798, initialization = 0.1151139999856241, integer cut generation = 0.0023923380067571998, main loop = 1.9533776140306145, mip = 1.7057214910164475, nlp = 0.24433006800245494, total = 2.171035360021051), 'Iterations': 1}]}"
      ]
     },
     "execution_count": 14,
     "metadata": {},
     "output_type": "execute_result"
    }
   ],
   "source": [
    "res"
   ]
  },
  {
   "cell_type": "code",
   "execution_count": 5,
   "metadata": {},
   "outputs": [
    {
     "data": {
      "image/png": "[encoded data removed]",
      "text/plain": [
       "<Figure size 432x288 with 1 Axes>"
      ]
     },
     "metadata": {
      "needs_background": "light"
     },
     "output_type": "display_data"
    }
   ],
   "source": [
    "import matplotlib.pyplot as plt\n",
    "from matplotlib.patches import Rectangle\n",
    "import random\n",
    "\n",
    "fig, ax = plt.subplots(1)\n",
    "W_max = max([instance.x[i].value+instance.W[i] for i in instance.N])\n",
    "H_max = max([instance.y[i].value+instance.H[i] for i in instance.N])\n",
    "plt.xlim((0,W_max))\n",
    "plt.ylim((0,H_max))\n",
    "ax.set_aspect('equal')\n",
    "plt.title('Packing solution', fontsize=16)\n",
    "plt.xlabel('x-axis (minimization direction)', fontsize=14)\n",
    "plt.ylabel('y-axis (fixed)', fontsize=14)\n",
    "\n",
    "for i in instance.N:\n",
    "    r_border = Rectangle(\n",
    "        (instance.x[i].value,instance.y[i].value),\n",
    "        instance.W[i],instance.H[i],\n",
    "        color='black',fill=False)\n",
    "    random.seed(i)\n",
    "    random_color = [random.random() for i in range(3)]\n",
    "    r_fill = Rectangle(\n",
    "        (instance.x[i].value,instance.y[i].value),\n",
    "        instance.W[i],instance.H[i],\n",
    "        color=random_color, alpha=0.8)\n",
    "    ax.add_patch(r_fill)\n",
    "    ax.add_patch(r_border)"
   ]
  },
  {
   "cell_type": "code",
   "execution_count": 16,
   "metadata": {},
   "outputs": [
    {
     "data": {
      "text/plain": [
       "{'Problem': [{'Name': 'x396', 'Lower bound': 3.72061643256, 'Upper bound': 3.72091449316, 'Number of objectives': 1, 'Number of constraints': 487, 'Number of variables': 396, 'Number of binary variables': 364, 'Number of integer variables': 364, 'Number of continuous variables': 32, 'Number of nonzeros': 1520, 'Sense': 'minimize'}], 'Solver': [{'Status': 'ok', 'Return code': '0', 'Message': 'Model was solved to optimality (subject to tolerances), and an optimal solution is available.', 'Termination condition': 'optimal', 'Termination message': 'Model was solved to optimality (subject to tolerances), and an optimal solution is available.', 'Wall time': '1035.46600294', 'Error rc': 0, 'Time': 1035.5397326946259}], 'Solution': [OrderedDict([('number of solutions', 0), ('number of solutions displayed', 0)])]}"
      ]
     },
     "execution_count": 16,
     "metadata": {},
     "output_type": "execute_result"
    }
   ],
   "source": [
    "minlp_problem = TransformationFactory('gdp.bigm').create_using(instance)\n",
    "SolverFactory('gurobi').solve(minlp_problem)"
   ]
  }
 ],
 "metadata": {
  "kernelspec": {
   "display_name": "Python [conda env:pyomo]",
   "language": "python",
   "name": "conda-env-pyomo-py"
  },
  "language_info": {
   "codemirror_mode": {
    "name": "ipython",
    "version": 3
   },
   "file_extension": ".py",
   "mimetype": "text/x-python",
   "name": "python",
   "nbconvert_exporter": "python",
   "pygments_lexer": "ipython3",
   "version": "3.7.1"
  }
 },
 "nbformat": 4,
 "nbformat_minor": 2
}
